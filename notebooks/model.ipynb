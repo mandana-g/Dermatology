{
 "cells": [
  {
   "cell_type": "code",
   "execution_count": null,
   "metadata": {},
   "outputs": [],
   "source": [
    "import pandas as pd\n",
    "from sklearn.model_selection import train_test_split\n",
    "from sklearn.svm import SVC\n",
    "from sklearn.metrics import accuracy_score, classification_report\n",
    "from sklearn.preprocessing import StandardScaler\n",
    "from sklearn.metrics import confusion_matrix\n",
    "import seaborn as sns\n",
    "import matplotlib.pyplot as plt"
   ]
  },
  {
   "cell_type": "code",
   "execution_count": null,
   "metadata": {},
   "outputs": [],
   "source": [
    "# import data \n",
    "dermatology = fetch_ucirepo(name = \"dermatology\") \n",
    "\n",
    "X = dermatology.data.features\n",
    "y = dermatology.data.targets\n",
    "\n",
    "df = pd.DataFrame(X)\n",
    "\n",
    "df.head()"
   ]
  },
  {
   "cell_type": "code",
   "execution_count": null,
   "metadata": {},
   "outputs": [],
   "source": [
    "# split data into tarin and test\n",
    "X = df.drop('Class', axis=1) \n",
    "y = df['Class'] \n",
    "\n",
    "X_train, X_test, y_train, y_test = train_test_split(X, y, test_size=0.2, random_state=42)"
   ]
  },
  {
   "cell_type": "code",
   "execution_count": null,
   "metadata": {},
   "outputs": [],
   "source": [
    "# split data and train model (Support Vector Machine (SVM) model)\n",
    "scaler = StandardScaler()\n",
    "\n",
    "X_train_scaled = scaler.fit_transform(X_train)\n",
    "X_test_scaled = scaler.transform(X_test)\n",
    "\n",
    "svm_model = SVC(kernel='linear', random_state=123)  # kernel types: linear, poly, rbf, etc.\n",
    "svm_model.fit(X_train_scaled, y_train)\n",
    "\n",
    "y_pred = svm_model.predict(X_test_scaled)"
   ]
  },
  {
   "cell_type": "code",
   "execution_count": null,
   "metadata": {},
   "outputs": [],
   "source": [
    "# model evaluation\n",
    "accuracy = accuracy_score(y_test, y_pred)\n",
    "print(f'Accuracy: {accuracy:.4f}')\n",
    "\n",
    "print('Classification Report:')\n",
    "print(classification_report(y_test, y_pred))"
   ]
  },
  {
   "cell_type": "markdown",
   "metadata": {},
   "source": [
    "The confusion matrix is something you'd analyze both before and after hyperparameter tuning. If you’ve already visualized the confusion matrix in the earlier stages, you could recheck it after tuning and assess whether the tuning has improved it."
   ]
  },
  {
   "cell_type": "code",
   "execution_count": null,
   "metadata": {},
   "outputs": [],
   "source": [
    "# confusion matrix\n",
    "conf_matrix = confusion_matrix(y_test, y_pred)\n",
    "\n",
    "print(\"Confusion Matrix:\")\n",
    "print(conf_matrix)\n",
    "\n",
    "plt.figure(figsize=(10, 7))\n",
    "sns.heatmap(conf_matrix, annot=True, fmt=\"d\", cmap=\"Blues\", xticklabels=np.unique(y), yticklabels=np.unique(y))\n",
    "plt.title('Confusion Matrix for SVM Model')\n",
    "plt.xlabel('Predicted')\n",
    "plt.ylabel('True')\n",
    "plt.show()"
   ]
  },
  {
   "cell_type": "code",
   "execution_count": null,
   "metadata": {},
   "outputs": [],
   "source": [
    "# more detail\n",
    "from sklearn.metrics import precision_score, recall_score, f1_score, accuracy_score\n",
    "\n",
    "# Calculate precision, recall, and f1 score for each class individually\n",
    "precision = precision_score(y_test, y_pred, average=None)\n",
    "recall = recall_score(y_test, y_pred, average=None)\n",
    "f1 = f1_score(y_test, y_pred, average=None)\n",
    "\n",
    "# Calculate overall accuracy\n",
    "accuracy = accuracy_score(y_test, y_pred)\n",
    "\n",
    "# Print detailed per-class performance metrics\n",
    "for i, class_name in enumerate(['psoriasis', 'seboreic dermatitis', 'lichen planus', 'pityriasis rosea', 'cronic dermatitis', 'pityriasis rubra pilaris']):\n",
    "    print(f'{class_name}:')\n",
    "    print(f'  Precision: {precision[i]:.4f}')\n",
    "    print(f'  Recall: {recall[i]:.4f}')\n",
    "    print(f'  F1-score: {f1[i]:.4f}')\n",
    "    print()\n",
    "\n",
    "# Print overall accuracy\n",
    "print(f'Overall Accuracy: {accuracy:.4f}')\n"
   ]
  },
  {
   "cell_type": "code",
   "execution_count": null,
   "metadata": {},
   "outputs": [],
   "source": [
    "# k-fold cross-validation\n",
    "from sklearn.model_selection import cross_val_score\n",
    "from sklearn.svm import SVC\n",
    "from sklearn.preprocessing import StandardScaler\n",
    "from sklearn.pipeline import make_pipeline\n",
    "\n",
    "model = make_pipeline(StandardScaler(), SVC(kernel='linear', random_state=123))\n",
    "\n",
    "k = 5 \n",
    "cv_scores = cross_val_score(model, X_train, y_train, cv=k, scoring='accuracy')\n",
    "\n",
    "print(f'Cross-validation scores for each fold: {cv_scores}')\n",
    "print(f'Mean cross-validation accuracy: {cv_scores.mean():.4f}')\n",
    "print(f'Standard deviation of cross-validation accuracy: {cv_scores.std():.4f}')"
   ]
  },
  {
   "cell_type": "code",
   "execution_count": null,
   "metadata": {},
   "outputs": [],
   "source": [
    "# hyperparameter tuning\n",
    "#Grid Search CV\n",
    "from sklearn.model_selection import GridSearchCV\n",
    "from sklearn.svm import SVC\n",
    "from sklearn.pipeline import make_pipeline\n",
    "from sklearn.preprocessing import StandardScaler\n",
    "\n",
    "\n",
    "model = make_pipeline(StandardScaler(), SVC(random_state=123))\n",
    "\n",
    "param_grid = {\n",
    "    'svc__C': [0.1, 1, 10, 100],  \n",
    "    'svc__kernel': ['linear', 'rbf'],  \n",
    "    'svc__gamma': ['scale', 'auto'],  \n",
    "    'svc__degree': [3, 5]  \n",
    "}\n",
    "\n",
    "grid_search = GridSearchCV(model, param_grid, cv=5, scoring='accuracy', verbose=1, n_jobs=-1)\n",
    "\n",
    "grid_search.fit(X_train, y_train)\n",
    "\n",
    "print(\"Best hyperparameters found: \", grid_search.best_params_)\n",
    "print(\"Best cross-validation accuracy: {:.4f}\".format(grid_search.best_score_))\n",
    "\n",
    "results = grid_search.cv_results_\n",
    "print(\"\\nAll grid search results:\")\n",
    "for mean_score, params in zip(results[\"mean_test_score\"], results[\"params\"]):\n",
    "    print(f\"Score: {mean_score:.4f} - Parameters: {params}\")"
   ]
  },
  {
   "cell_type": "code",
   "execution_count": null,
   "metadata": {},
   "outputs": [],
   "source": [
    "# evaluate after hypertuning and cross-validation\n"
   ]
  },
  {
   "cell_type": "code",
   "execution_count": null,
   "metadata": {},
   "outputs": [],
   "source": [
    "# analyze feature importance using radom forest\n",
    "from sklearn.ensemble import RandomForestClassifier\n",
    "import matplotlib.pyplot as plt\n",
    "import numpy as np\n",
    "\n",
    "# Create a Random Forest model (you can adjust parameters based on your tuning)\n",
    "rf_model = RandomForestClassifier(n_estimators=100, random_state=123)\n",
    "\n",
    "# Fit the model\n",
    "rf_model.fit(X_train, y_train)\n",
    "\n",
    "# Get feature importances\n",
    "feature_importances = rf_model.feature_importances_\n",
    "\n",
    "# Sort the features by importance\n",
    "indices = np.argsort(feature_importances)[::-1]\n",
    "\n",
    "# Plot feature importances\n",
    "plt.figure(figsize=(12, 6))\n",
    "plt.title('Feature Importance from Random Forest')\n",
    "plt.barh(range(X_train.shape[1]), feature_importances[indices], align='center')\n",
    "plt.yticks(range(X_train.shape[1]), [X_train.columns[i] for i in indices])\n",
    "plt.xlabel('Relative Importance')\n",
    "plt.show()"
   ]
  },
  {
   "cell_type": "code",
   "execution_count": null,
   "metadata": {},
   "outputs": [],
   "source": [
    "# SHAP for model interpretability\n",
    "import shap\n",
    "from sklearn.ensemble import RandomForestClassifier\n",
    "import matplotlib.pyplot as plt\n",
    "\n",
    "# Fit the Random Forest model (if not already done)\n",
    "rf_model = RandomForestClassifier(n_estimators=100, random_state=123)\n",
    "rf_model.fit(X_train, y_train)\n",
    "\n",
    "# Initialize SHAP explainer\n",
    "explainer = shap.Explainer(rf_model, X_train)\n",
    "\n",
    "# Calculate SHAP values for the test set\n",
    "shap_values = explainer(X_test)\n",
    "\n",
    "# Summary plot for global feature importance\n",
    "shap.summary_plot(shap_values, X_test, plot_type=\"bar\")\n",
    "\n",
    "# SHAP force plot for an individual prediction (first test sample)\n",
    "shap.initjs()\n",
    "shap.force_plot(shap_values[0].base_value, shap_values[0].values, X_test.iloc[0])"
   ]
  },
  {
   "cell_type": "code",
   "execution_count": null,
   "metadata": {},
   "outputs": [],
   "source": [
    "# Investigate the relationship between significant features and the target class\n",
    "#1-Boxplot of features vs. target class\n",
    "import seaborn as sns\n",
    "import matplotlib.pyplot as plt\n",
    "\n",
    "# Choose significant features identified in the previous analysis\n",
    "significant_features = ['erythema', 'scaling', 'fibrosis of the papillary dermis']\n",
    "\n",
    "# Create boxplots for each significant feature with respect to the target class\n",
    "plt.figure(figsize=(15, 8))\n",
    "for i, feature in enumerate(significant_features, 1):\n",
    "    plt.subplot(1, len(significant_features), i)\n",
    "    sns.boxplot(x='target_class', y=feature, data=pd.concat([X_train[significant_features], y_train], axis=1))\n",
    "    plt.title(f'Boxplot of {feature} vs. Target Class')\n",
    "    plt.xticks(rotation=45)\n",
    "plt.tight_layout()\n",
    "plt.show()"
   ]
  },
  {
   "cell_type": "code",
   "execution_count": null,
   "metadata": {},
   "outputs": [],
   "source": [
    "# Investigate the relationship between significant features and the target class\n",
    "#2-correlation matirx\n",
    "# Calculate the correlation between features and the target class\n",
    "corr_matrix = pd.concat([X_train[significant_features], y_train], axis=1).corr()\n",
    "\n",
    "# Display the correlation matrix\n",
    "plt.figure(figsize=(10, 7))\n",
    "sns.heatmap(corr_matrix, annot=True, cmap='coolwarm', fmt='.2f', center=0)\n",
    "plt.title('Correlation Matrix of Significant Features and Target Class')\n",
    "plt.show()"
   ]
  }
 ],
 "metadata": {
  "kernelspec": {
   "display_name": "dsi_participant",
   "language": "python",
   "name": "python3"
  },
  "language_info": {
   "name": "python",
   "version": "3.9.15"
  }
 },
 "nbformat": 4,
 "nbformat_minor": 2
}
